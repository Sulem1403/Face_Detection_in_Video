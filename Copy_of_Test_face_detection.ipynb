{
  "nbformat": 4,
  "nbformat_minor": 0,
  "metadata": {
    "colab": {
      "provenance": []
    },
    "kernelspec": {
      "name": "python3",
      "display_name": "Python 3"
    },
    "language_info": {
      "name": "python"
    }
  },
  "cells": [
    {
      "cell_type": "markdown",
      "source": [
        "## Edit to fill this\n",
        "\n",
        "__Name__: Sulem Bakrawala\n",
        "\n",
        "__Email id__: sulembakrawala123@gmail.com\n",
        "\n",
        "\n",
        "To start go to file tab and create a copy of this notebook on your own drive"
      ],
      "metadata": {
        "id": "d4znkzC1tYBT"
      }
    },
    {
      "cell_type": "markdown",
      "source": [
        "# __Objective:__ Given the input video file localize and draw bounding boxes around the face of characters."
      ],
      "metadata": {
        "id": "PbsSmDeEiMCk"
      }
    },
    {
      "cell_type": "markdown",
      "source": [
        "- Candidate can use any methohd or platform to tackle this problem. not a fan of colab downlaod the video on to your system using [video](https://drive.google.com/file/d/1nyeeqBJyDr2zphBDQ9ruh99JBdYm4nPH/view?usp=sharing) and upload the solution back here with your code attached.\n",
        "\n",
        "- You are free to use any model or module, either trained by you or state-of-the-art.\n",
        "- The code should be well-documented. One can also use markdown cells to write your approach for every step.\n",
        "- In case of plagiarism, the candidate will be immediately rejected. You can use some helper code available online but must be appropriately referenced."
      ],
      "metadata": {
        "id": "z2UH-uNarZIS"
      }
    },
    {
      "cell_type": "code",
      "execution_count": 1,
      "metadata": {
        "id": "RbXUY_Y2XLYu",
        "colab": {
          "base_uri": "https://localhost:8080/"
        },
        "outputId": "99f691f9-6c04-4c91-fa7a-d33b2341a470"
      },
      "outputs": [
        {
          "output_type": "stream",
          "name": "stdout",
          "text": [
            "Downloading...\n",
            "From: https://drive.google.com/uc?id=1nyeeqBJyDr2zphBDQ9ruh99JBdYm4nPH\n",
            "To: /content/test_video.m4\n",
            "\r  0% 0.00/7.54M [00:00<?, ?B/s]\r 63% 4.72M/7.54M [00:00<00:00, 27.6MB/s]\r100% 7.54M/7.54M [00:00<00:00, 41.5MB/s]\n"
          ]
        }
      ],
      "source": [
        "# run this to download the video file as test_video.mp4\n",
        "! gdown --fuzzy https://drive.google.com/file/d/1nyeeqBJyDr2zphBDQ9ruh99JBdYm4nPH/view?usp=sharing --o test_video.m4"
      ]
    },
    {
      "cell_type": "markdown",
      "source": [
        "### Your approach here"
      ],
      "metadata": {
        "id": "wVG6sk6YtQvQ"
      }
    },
    {
      "cell_type": "code",
      "source": [
        "# Install OpenCV without GUI dependencies\n",
        "!pip install opencv-python-headless\n",
        "\n",
        "import cv2\n",
        "import numpy as np\n",
        "from google.colab import files\n",
        "\n",
        "# Function to perform face detection on a video and save the results\n",
        "def process_video_for_face_detection(input_video_path, output_video_path):\n",
        "    # Load the Haar Cascade face detection model\n",
        "    face_detector = cv2.CascadeClassifier(cv2.data.haarcascades + 'haarcascade_frontalface_default.xml')\n",
        "\n",
        "    # Open the input video file\n",
        "    video_capture = cv2.VideoCapture(input_video_path)\n",
        "\n",
        "    # Check if the video was opened successfully\n",
        "    if not video_capture.isOpened():\n",
        "        print(\"Error: Unable to open video file.\")\n",
        "        return\n",
        "\n",
        "    # Retrieve video properties\n",
        "    frames_per_second = video_capture.get(cv2.CAP_PROP_FPS)\n",
        "    frame_width = int(video_capture.get(cv2.CAP_PROP_FRAME_WIDTH))\n",
        "    frame_height = int(video_capture.get(cv2.CAP_PROP_FRAME_HEIGHT))\n",
        "\n",
        "    # Create a VideoWriter object for saving the output video\n",
        "    codec = cv2.VideoWriter_fourcc(*'XVID')\n",
        "    video_writer = cv2.VideoWriter(output_video_path, codec, frames_per_second, (frame_width, frame_height))\n",
        "\n",
        "    while video_capture.isOpened():\n",
        "        success, frame = video_capture.read()\n",
        "        if not success:\n",
        "            break\n",
        "\n",
        "        # Convert the frame to grayscale for face detection\n",
        "        gray_frame = cv2.cvtColor(frame, cv2.COLOR_BGR2GRAY)\n",
        "\n",
        "        # Detect faces in the frame\n",
        "        detected_faces = face_detector.detectMultiScale(gray_frame, scaleFactor=1.1, minNeighbors=5)\n",
        "\n",
        "        # Draw rectangles around detected faces\n",
        "        for (x, y, w, h) in detected_faces:\n",
        "            cv2.rectangle(frame, (x, y), (x + w, y + h), (255, 0, 0), 2)\n",
        "\n",
        "        # Write the modified frame to the output video\n",
        "        video_writer.write(frame)\n",
        "\n",
        "    # Release video resources\n",
        "    video_capture.release()\n",
        "    video_writer.release()\n",
        "    print(\"Face detection complete. Results saved to:\", output_video_path)\n",
        "\n",
        "# Upload a video file\n",
        "uploaded_files = files.upload()\n",
        "input_video_file = next(iter(uploaded_files))  # Get the name of the uploaded video file\n",
        "output_video_file = 'output_video.avi'  # Define the output video file name\n",
        "\n",
        "# Execute the face detection function\n",
        "process_video_for_face_detection(input_video_file, output_video_file)"
      ],
      "metadata": {
        "id": "SJ4GL0V4qWwn",
        "colab": {
          "base_uri": "https://localhost:8080/",
          "height": 125
        },
        "outputId": "9f919e7e-0fe4-4977-e4b0-912aa21c4fe9"
      },
      "execution_count": 2,
      "outputs": [
        {
          "output_type": "stream",
          "name": "stdout",
          "text": [
            "Requirement already satisfied: opencv-python-headless in /usr/local/lib/python3.10/dist-packages (4.10.0.84)\n",
            "Requirement already satisfied: numpy>=1.21.2 in /usr/local/lib/python3.10/dist-packages (from opencv-python-headless) (1.26.4)\n"
          ]
        },
        {
          "output_type": "display_data",
          "data": {
            "text/plain": [
              "<IPython.core.display.HTML object>"
            ],
            "text/html": [
              "\n",
              "     <input type=\"file\" id=\"files-82934887-e4cd-4bee-a6c0-feb37167828c\" name=\"files[]\" multiple disabled\n",
              "        style=\"border:none\" />\n",
              "     <output id=\"result-82934887-e4cd-4bee-a6c0-feb37167828c\">\n",
              "      Upload widget is only available when the cell has been executed in the\n",
              "      current browser session. Please rerun this cell to enable.\n",
              "      </output>\n",
              "      <script>// Copyright 2017 Google LLC\n",
              "//\n",
              "// Licensed under the Apache License, Version 2.0 (the \"License\");\n",
              "// you may not use this file except in compliance with the License.\n",
              "// You may obtain a copy of the License at\n",
              "//\n",
              "//      http://www.apache.org/licenses/LICENSE-2.0\n",
              "//\n",
              "// Unless required by applicable law or agreed to in writing, software\n",
              "// distributed under the License is distributed on an \"AS IS\" BASIS,\n",
              "// WITHOUT WARRANTIES OR CONDITIONS OF ANY KIND, either express or implied.\n",
              "// See the License for the specific language governing permissions and\n",
              "// limitations under the License.\n",
              "\n",
              "/**\n",
              " * @fileoverview Helpers for google.colab Python module.\n",
              " */\n",
              "(function(scope) {\n",
              "function span(text, styleAttributes = {}) {\n",
              "  const element = document.createElement('span');\n",
              "  element.textContent = text;\n",
              "  for (const key of Object.keys(styleAttributes)) {\n",
              "    element.style[key] = styleAttributes[key];\n",
              "  }\n",
              "  return element;\n",
              "}\n",
              "\n",
              "// Max number of bytes which will be uploaded at a time.\n",
              "const MAX_PAYLOAD_SIZE = 100 * 1024;\n",
              "\n",
              "function _uploadFiles(inputId, outputId) {\n",
              "  const steps = uploadFilesStep(inputId, outputId);\n",
              "  const outputElement = document.getElementById(outputId);\n",
              "  // Cache steps on the outputElement to make it available for the next call\n",
              "  // to uploadFilesContinue from Python.\n",
              "  outputElement.steps = steps;\n",
              "\n",
              "  return _uploadFilesContinue(outputId);\n",
              "}\n",
              "\n",
              "// This is roughly an async generator (not supported in the browser yet),\n",
              "// where there are multiple asynchronous steps and the Python side is going\n",
              "// to poll for completion of each step.\n",
              "// This uses a Promise to block the python side on completion of each step,\n",
              "// then passes the result of the previous step as the input to the next step.\n",
              "function _uploadFilesContinue(outputId) {\n",
              "  const outputElement = document.getElementById(outputId);\n",
              "  const steps = outputElement.steps;\n",
              "\n",
              "  const next = steps.next(outputElement.lastPromiseValue);\n",
              "  return Promise.resolve(next.value.promise).then((value) => {\n",
              "    // Cache the last promise value to make it available to the next\n",
              "    // step of the generator.\n",
              "    outputElement.lastPromiseValue = value;\n",
              "    return next.value.response;\n",
              "  });\n",
              "}\n",
              "\n",
              "/**\n",
              " * Generator function which is called between each async step of the upload\n",
              " * process.\n",
              " * @param {string} inputId Element ID of the input file picker element.\n",
              " * @param {string} outputId Element ID of the output display.\n",
              " * @return {!Iterable<!Object>} Iterable of next steps.\n",
              " */\n",
              "function* uploadFilesStep(inputId, outputId) {\n",
              "  const inputElement = document.getElementById(inputId);\n",
              "  inputElement.disabled = false;\n",
              "\n",
              "  const outputElement = document.getElementById(outputId);\n",
              "  outputElement.innerHTML = '';\n",
              "\n",
              "  const pickedPromise = new Promise((resolve) => {\n",
              "    inputElement.addEventListener('change', (e) => {\n",
              "      resolve(e.target.files);\n",
              "    });\n",
              "  });\n",
              "\n",
              "  const cancel = document.createElement('button');\n",
              "  inputElement.parentElement.appendChild(cancel);\n",
              "  cancel.textContent = 'Cancel upload';\n",
              "  const cancelPromise = new Promise((resolve) => {\n",
              "    cancel.onclick = () => {\n",
              "      resolve(null);\n",
              "    };\n",
              "  });\n",
              "\n",
              "  // Wait for the user to pick the files.\n",
              "  const files = yield {\n",
              "    promise: Promise.race([pickedPromise, cancelPromise]),\n",
              "    response: {\n",
              "      action: 'starting',\n",
              "    }\n",
              "  };\n",
              "\n",
              "  cancel.remove();\n",
              "\n",
              "  // Disable the input element since further picks are not allowed.\n",
              "  inputElement.disabled = true;\n",
              "\n",
              "  if (!files) {\n",
              "    return {\n",
              "      response: {\n",
              "        action: 'complete',\n",
              "      }\n",
              "    };\n",
              "  }\n",
              "\n",
              "  for (const file of files) {\n",
              "    const li = document.createElement('li');\n",
              "    li.append(span(file.name, {fontWeight: 'bold'}));\n",
              "    li.append(span(\n",
              "        `(${file.type || 'n/a'}) - ${file.size} bytes, ` +\n",
              "        `last modified: ${\n",
              "            file.lastModifiedDate ? file.lastModifiedDate.toLocaleDateString() :\n",
              "                                    'n/a'} - `));\n",
              "    const percent = span('0% done');\n",
              "    li.appendChild(percent);\n",
              "\n",
              "    outputElement.appendChild(li);\n",
              "\n",
              "    const fileDataPromise = new Promise((resolve) => {\n",
              "      const reader = new FileReader();\n",
              "      reader.onload = (e) => {\n",
              "        resolve(e.target.result);\n",
              "      };\n",
              "      reader.readAsArrayBuffer(file);\n",
              "    });\n",
              "    // Wait for the data to be ready.\n",
              "    let fileData = yield {\n",
              "      promise: fileDataPromise,\n",
              "      response: {\n",
              "        action: 'continue',\n",
              "      }\n",
              "    };\n",
              "\n",
              "    // Use a chunked sending to avoid message size limits. See b/62115660.\n",
              "    let position = 0;\n",
              "    do {\n",
              "      const length = Math.min(fileData.byteLength - position, MAX_PAYLOAD_SIZE);\n",
              "      const chunk = new Uint8Array(fileData, position, length);\n",
              "      position += length;\n",
              "\n",
              "      const base64 = btoa(String.fromCharCode.apply(null, chunk));\n",
              "      yield {\n",
              "        response: {\n",
              "          action: 'append',\n",
              "          file: file.name,\n",
              "          data: base64,\n",
              "        },\n",
              "      };\n",
              "\n",
              "      let percentDone = fileData.byteLength === 0 ?\n",
              "          100 :\n",
              "          Math.round((position / fileData.byteLength) * 100);\n",
              "      percent.textContent = `${percentDone}% done`;\n",
              "\n",
              "    } while (position < fileData.byteLength);\n",
              "  }\n",
              "\n",
              "  // All done.\n",
              "  yield {\n",
              "    response: {\n",
              "      action: 'complete',\n",
              "    }\n",
              "  };\n",
              "}\n",
              "\n",
              "scope.google = scope.google || {};\n",
              "scope.google.colab = scope.google.colab || {};\n",
              "scope.google.colab._files = {\n",
              "  _uploadFiles,\n",
              "  _uploadFilesContinue,\n",
              "};\n",
              "})(self);\n",
              "</script> "
            ]
          },
          "metadata": {}
        },
        {
          "output_type": "stream",
          "name": "stdout",
          "text": [
            "Saving test_video.mp4 to test_video.mp4\n",
            "Face detection complete. Results saved to: output_video.avi\n"
          ]
        }
      ]
    },
    {
      "cell_type": "code",
      "source": [
        "# result video\n",
        "files.download(output_video_file)"
      ],
      "metadata": {
        "id": "GCpcvISrwmf4",
        "colab": {
          "base_uri": "https://localhost:8080/",
          "height": 17
        },
        "outputId": "ee1b2e6b-fe7f-4052-968a-4de2b2ff4e56"
      },
      "execution_count": 3,
      "outputs": [
        {
          "output_type": "display_data",
          "data": {
            "text/plain": [
              "<IPython.core.display.Javascript object>"
            ],
            "application/javascript": [
              "\n",
              "    async function download(id, filename, size) {\n",
              "      if (!google.colab.kernel.accessAllowed) {\n",
              "        return;\n",
              "      }\n",
              "      const div = document.createElement('div');\n",
              "      const label = document.createElement('label');\n",
              "      label.textContent = `Downloading \"${filename}\": `;\n",
              "      div.appendChild(label);\n",
              "      const progress = document.createElement('progress');\n",
              "      progress.max = size;\n",
              "      div.appendChild(progress);\n",
              "      document.body.appendChild(div);\n",
              "\n",
              "      const buffers = [];\n",
              "      let downloaded = 0;\n",
              "\n",
              "      const channel = await google.colab.kernel.comms.open(id);\n",
              "      // Send a message to notify the kernel that we're ready.\n",
              "      channel.send({})\n",
              "\n",
              "      for await (const message of channel.messages) {\n",
              "        // Send a message to notify the kernel that we're ready.\n",
              "        channel.send({})\n",
              "        if (message.buffers) {\n",
              "          for (const buffer of message.buffers) {\n",
              "            buffers.push(buffer);\n",
              "            downloaded += buffer.byteLength;\n",
              "            progress.value = downloaded;\n",
              "          }\n",
              "        }\n",
              "      }\n",
              "      const blob = new Blob(buffers, {type: 'application/binary'});\n",
              "      const a = document.createElement('a');\n",
              "      a.href = window.URL.createObjectURL(blob);\n",
              "      a.download = filename;\n",
              "      div.appendChild(a);\n",
              "      a.click();\n",
              "      div.remove();\n",
              "    }\n",
              "  "
            ]
          },
          "metadata": {}
        },
        {
          "output_type": "display_data",
          "data": {
            "text/plain": [
              "<IPython.core.display.Javascript object>"
            ],
            "application/javascript": [
              "download(\"download_dc216f0d-b424-49c3-b27d-98ecfc6a0405\", \"output_video.avi\", 17913734)"
            ]
          },
          "metadata": {}
        }
      ]
    },
    {
      "cell_type": "markdown",
      "source": [
        "## Questions"
      ],
      "metadata": {
        "id": "sQPlLUKHt9Xp"
      }
    },
    {
      "cell_type": "markdown",
      "source": [
        "[link text](https://)#### __Q1:__ What is the video processing library and localization model you used?\n",
        "\n",
        "__ANS__ The code uses OpenCV for video processing and a Haar Cascade Classifier model (`haarcascade_frontalface_default.xml`) for face localization. OpenCV handles video reading and writing, while the Haar Cascade model detects faces in each frame.\n"
      ],
      "metadata": {
        "id": "KcsERn4ouB-q"
      }
    },
    {
      "cell_type": "markdown",
      "source": [
        "#### __Q2:__ If given enough resources, time or data. what better approach you might have implemented?\n",
        "\n",
        "__ANS__ If sufficient resources, time, and data are available, a more effective approach for face detection could include:\n",
        "\n",
        "1. Convolutional Neural Networks (CNNs): Custom models designed to enhance accuracy.\n",
        "2. YOLO (You Only Look Once): A real-time detection system capable of identifying multiple objects, including faces.\n",
        "3. SSD (Single Shot MultiBox Detector): An efficient method for real-time face detection.\n",
        "4. Data Augmentation: Techniques to artificially increase dataset size and diversity, enhancing model robustness.\n",
        "5. Ensemble Methods: Combining outputs from multiple models to achieve better overall performance."
      ],
      "metadata": {
        "id": "8rCI5cH1urMp"
      }
    },
    {
      "cell_type": "markdown",
      "source": [
        "#### __Q3:__ Explain some real life use cases of Object detection or localization. If you have a project using these also explain that problem statement.\n",
        "__ANS__ I made a project on Human Action Recognition and localization. So, I am sharing use cases and project in brief.\n",
        "\n",
        "Use Cases of Human Action Recognition\n",
        "1. Surveillance: Detecting suspicious behaviors.\n",
        "2. Sports Analytics: Analyzing player movements.\n",
        "3. Healthcare: Monitoring patient activities.\n",
        "4. Gaming: Enabling motion-based controls.\n",
        "5. Robotics: Understanding human actions.\n",
        "6. Virtual Assistants: Interpreting gestures.\n",
        "\n",
        "Problem Statement: Develop a model to recognize and classify human actions (e.g., walking, running) in real-time video feeds.\n",
        "\n",
        "Objectives:\n",
        "- Detect and classify actions from video.\n",
        "- Provide real-time feedback.\n",
        "\n",
        "Approach:\n",
        "- Use datasets like UCF101.\n",
        "- Implement a 3D CNN or RNN architecture.\n",
        "- Train the model and deploy it for real-time processing.\n",
        "\n",
        "Impact: Enhances security, improves sports training, and assists in healthcare monitoring."
      ],
      "metadata": {
        "id": "bLVbwOMXuvZZ"
      }
    },
    {
      "cell_type": "markdown",
      "source": [
        "\n",
        "\n",
        "```\n",
        "# This is formatted as code\n",
        "```\n",
        "\n",
        "#### __Q4:__ Explain breifly model architectue of ResNet?\n",
        "__ANS__ ResNet (Residual Network) Architecture\n",
        "ResNet includes the following features:\n",
        "\n",
        "Residual Blocks: These consist of two or three convolutional layers with skip connections that allow inputs to bypass certain layers, facilitating better optimization.\n",
        "\n",
        "Skip Connections: These connections improve gradient flow during training, helping to overcome the vanishing gradient issue.\n",
        "\n",
        "Variable Depth: ResNet comes in various depths, such as ResNet-18, ResNet-50, and ResNet-101, with deeper architectures employing bottleneck layers to enhance efficiency.\n",
        "\n",
        "Pooling Layers: The network utilizes pooling layers to decrease spatial dimensions and extract important features.\n",
        "\n",
        "Final Layers: Typically, ResNet concludes with global average pooling followed by a softmax layer for classification tasks."
      ],
      "metadata": {
        "id": "NYbMatzLwRKS"
      }
    }
  ]
}